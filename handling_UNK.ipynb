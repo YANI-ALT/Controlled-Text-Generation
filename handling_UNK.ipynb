{
 "cells": [
  {
   "cell_type": "code",
   "execution_count": 36,
   "metadata": {},
   "outputs": [],
   "source": [
    "import json\n",
    "import os"
   ]
  },
  {
   "cell_type": "code",
   "execution_count": 8,
   "metadata": {},
   "outputs": [],
   "source": [
    "DIFF_LM_PATH='diff_e2e-tgt_block_rand16_transformer_lr0.0001_0.0_2000_sqrt_Lsimple_h128_s2_d0.1_sd102_xstart_e2e/'"
   ]
  },
  {
   "cell_type": "code",
   "execution_count": 12,
   "metadata": {},
   "outputs": [],
   "source": [
    "def get_tokenizer(model_name_or_path):\n",
    "    path_save_tokenizer = '{}/vocab.json'.format(model_name_or_path)\n",
    "    with open(path_save_tokenizer, 'r') as f:\n",
    "        vocab = json.load(f)\n",
    "    tokenizer = {v: k for k, v in vocab.items()}\n",
    "    rev_tokenizer={k:v  for k,v in vocab.items()}\n",
    "    return tokenizer,rev_tokenizer"
   ]
  },
  {
   "cell_type": "code",
   "execution_count": 14,
   "metadata": {},
   "outputs": [],
   "source": [
    "tokenizer,rev_tokenizer=get_tokenizer(DIFF_LM_PATH)"
   ]
  },
  {
   "cell_type": "code",
   "execution_count": 20,
   "metadata": {},
   "outputs": [],
   "source": [
    "def read_file_lbyl(path):\n",
    "    lines=[]\n",
    "    with open(path) as f:\n",
    "        for line in f:\n",
    "            lines.append(line)\n",
    "    return lines\n",
    "    \n",
    "def write_file_lbyl(path,lines_data):\n",
    "    with open(path, 'w') as f:\n",
    "        for line in lines_data:\n",
    "            f.write(line)\n",
    "            f.write('\\n')"
   ]
  },
  {
   "cell_type": "code",
   "execution_count": 37,
   "metadata": {},
   "outputs": [],
   "source": [
    "def handle_unks(rev_tokenizer,file_path):\n",
    "    file_data=read_file_lbyl(file_path)\n",
    "    transformed_sent=[]\n",
    "    for line in file_data:\n",
    "        line=line.strip()\n",
    "        line=line.replace(\",\",\" ,\")\n",
    "        line=line.replace(\".\",\" .\")\n",
    "        word_lst=line.split()\n",
    "        new_sent_wrd_list=[]\n",
    "        for wrd in word_lst:\n",
    "            if wrd=='<|endoftext|>':\n",
    "                new_sent_wrd_list.append(wrd)\n",
    "                continue\n",
    "            if wrd not in rev_tokenizer:\n",
    "                new_sent_wrd_list.append(\"UNK\")\n",
    "            else:\n",
    "                new_sent_wrd_list.append(wrd)\n",
    "        \n",
    "        new_sentence=\" \".join(new_sent_wrd_list)\n",
    "        # print(\"OLD : \",line)\n",
    "        # print(\"NEW : \",new_sentence)\n",
    "        transformed_sent.append(new_sentence)\n",
    "    \n",
    "    file_name=file_path.split('/')[-1]\n",
    "    file_loc=\"/\".join(file_path.split('/')[:-1])\n",
    "    output_file=os.path.join(file_loc,\"handleUNK_\"+file_name)\n",
    "    write_file_lbyl(output_file,transformed_sent)\n",
    "    \n",
    "    "
   ]
  },
  {
   "cell_type": "code",
   "execution_count": 38,
   "metadata": {},
   "outputs": [],
   "source": [
    "handle_unks(rev_tokenizer,'perplex_score_input/perplexity_input_bert_controlled_generation_n_lm_10_lambda_5_sample_strat_max.txt')"
   ]
  },
  {
   "cell_type": "code",
   "execution_count": 29,
   "metadata": {},
   "outputs": [
    {
     "data": {
      "text/plain": [
       "'has a house, yes no .'"
      ]
     },
     "execution_count": 29,
     "metadata": {},
     "output_type": "execute_result"
    }
   ],
   "source": [
    "\"has a house, yes no.\".replace(\",\",\" ,\")\n",
    "\"has a house, yes no.\".replace(\".\",\" .\")"
   ]
  },
  {
   "cell_type": "code",
   "execution_count": null,
   "metadata": {},
   "outputs": [],
   "source": []
  }
 ],
 "metadata": {
  "kernelspec": {
   "display_name": "Python 3.9.13 ('NLP_p3')",
   "language": "python",
   "name": "python3"
  },
  "language_info": {
   "codemirror_mode": {
    "name": "ipython",
    "version": 3
   },
   "file_extension": ".py",
   "mimetype": "text/x-python",
   "name": "python",
   "nbconvert_exporter": "python",
   "pygments_lexer": "ipython3",
   "version": "3.9.13"
  },
  "orig_nbformat": 4,
  "vscode": {
   "interpreter": {
    "hash": "8e83ba4ea1ad4a8f723b2888449f21103eea871c4f0f3aecf106aae3c4b44c32"
   }
  }
 },
 "nbformat": 4,
 "nbformat_minor": 2
}
